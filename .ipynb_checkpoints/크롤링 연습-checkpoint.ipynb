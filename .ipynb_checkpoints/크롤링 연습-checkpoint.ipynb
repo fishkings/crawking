{
 "cells": [
  {
   "cell_type": "markdown",
   "id": "ab9245da",
   "metadata": {},
   "source": [
    "# 네이버 환율 "
   ]
  },
  {
   "cell_type": "code",
   "execution_count": 1,
   "id": "6d3430b4",
   "metadata": {},
   "outputs": [],
   "source": [
    "import requests\n",
    "from bs4 import BeautifulSoup"
   ]
  },
  {
   "cell_type": "code",
   "execution_count": 2,
   "id": "e287658d",
   "metadata": {},
   "outputs": [],
   "source": [
    "url = \"https://finance.naver.com/marketindex/\"\n",
    "market_index = requests.get(url)\n",
    "soup = BeautifulSoup(market_index.content, \"html.parser\")"
   ]
  },
  {
   "cell_type": "code",
   "execution_count": 3,
   "id": "56c450fd",
   "metadata": {
    "scrolled": true
   },
   "outputs": [
    {
     "data": {
      "text/plain": [
       "[<span class=\"value\">1,338.50</span>,\n",
       " <span class=\"value\">976.05</span>,\n",
       " <span class=\"value\">1,449.33</span>,\n",
       " <span class=\"value\">190.93</span>,\n",
       " <span class=\"value\">136.4900</span>,\n",
       " <span class=\"value\">1.0865</span>,\n",
       " <span class=\"value\">1.2494</span>,\n",
       " <span class=\"value\">102.4000</span>,\n",
       " <span class=\"value\">70.86</span>,\n",
       " <span class=\"value\">1623.21</span>,\n",
       " <span class=\"value\">1993.0</span>,\n",
       " <span class=\"value\">85456.88</span>]"
      ]
     },
     "execution_count": 3,
     "metadata": {},
     "output_type": "execute_result"
    }
   ],
   "source": [
    "price = soup.select(\"div.head_info>span.value\")\n",
    "price"
   ]
  },
  {
   "cell_type": "markdown",
   "id": "f3ce7002",
   "metadata": {},
   "source": [
    "# 셀레니움 "
   ]
  },
  {
   "cell_type": "code",
   "execution_count": 4,
   "id": "52c7502b",
   "metadata": {},
   "outputs": [],
   "source": [
    "from selenium import webdriver\n",
    "from selenium.webdriver.common.keys import Keys"
   ]
  },
  {
   "cell_type": "code",
   "execution_count": 5,
   "id": "dc81b91b",
   "metadata": {
    "scrolled": true
   },
   "outputs": [
    {
     "data": {
      "text/plain": [
       "'Chrome'"
      ]
     },
     "execution_count": 5,
     "metadata": {},
     "output_type": "execute_result"
    }
   ],
   "source": [
    "dir(webdriver)[3]"
   ]
  },
  {
   "cell_type": "markdown",
   "id": "4436e4fe",
   "metadata": {},
   "source": [
    "## 검색 후 엔터"
   ]
  },
  {
   "cell_type": "code",
   "execution_count": 7,
   "id": "d2c368db",
   "metadata": {},
   "outputs": [],
   "source": [
    "driver = webdriver.Chrome(\"C:/Users/kcjer/OneDrive/바탕 화면/파이썬 크롤링/chromedriver.exe\")\n",
    "driver.get(\"https://www.naver.com/\")\n",
    "\n",
    "elem = driver.find_element_by_name(\"query\")\n",
    "elem.clear()\n",
    "elem.send_keys(\"해외 야구\")\n",
    "elem.send_keys(Keys.RETURN)"
   ]
  },
  {
   "cell_type": "markdown",
   "id": "79009efd",
   "metadata": {},
   "source": [
    "# 해외 야구 검색"
   ]
  },
  {
   "cell_type": "code",
   "execution_count": 15,
   "id": "2631fa4a",
   "metadata": {},
   "outputs": [
    {
     "name": "stdout",
     "output_type": "stream",
     "text": [
      "1번째 기사 제목 : 5·18묘지서 눈시울 붉힌 이준석 \"당 흔들려 안타깝다\"\n",
      "\n",
      "2번째 기사 제목 : 尹 \"힘에 의한 현상변경·핵 협박 세력 국제사회 힘 합쳐 단호히 대응\"\n",
      "\n",
      "3번째 기사 제목 : 윤 대통령, 보리스 존슨 前 영국총리 초청 관저 만찬\n",
      "\n",
      "4번째 기사 제목 : \"日기시다, 내일 한·미·대만 반도체기업 면담…투자 요청\"(종합)\n",
      "\n",
      "5번째 기사 제목 : \"현대차·기아, 美·대만 업체에 무더기 특허침해 당했다\"\n",
      "\n",
      "6번째 기사 제목 : 빚투 덕분에 이자수익 늘어 배부른 증권사…부동산 PF 연체율 비상\n",
      "\n",
      "7번째 기사 제목 : \"1.2조 이익 났는데 임금인상 4년 2.5%\"…거리 나선 아시아나 조종사노조\n",
      "\n",
      "8번째 기사 제목 : 종이서류 안 챙겨도 된다…실손청구 간소화 시행 '초읽기'\n",
      "\n",
      "9번째 기사 제목 : 게임산업협회 “위정현, 업계 폄훼 행위 중단해야”\n",
      "\n",
      "10번째 기사 제목 : 토스모바일, SKT망 상품 출시…\"이달까지 가입하면 2년간 150GB 추가\"\n",
      "\n",
      "11번째 기사 제목 : ‘사모펀드 의혹’ 조국 5촌 조카 조범동 26일 가석방\n",
      "\n",
      "12번째 기사 제목 : 의정부 고산지구에 ‘돌봄시설 클러스터’ 조성하기로\n",
      "\n",
      "13번째 기사 제목 : 간호협회, 준법투쟁 선언...19일 규탄대회·면허증 반납 운동도\n",
      "\n",
      "14번째 기사 제목 : 광주·전남 오늘도 맑고 더워…내일부터 곳곳 비[날씨]\n",
      "\n",
      "15번째 기사 제목 : 악화일로 부산국제영화제… 문체부 장관 \"사태 살펴보고 대응할 것\"\n",
      "\n"
     ]
    }
   ],
   "source": [
    "driver = webdriver.Chrome(\"C:/Users/kcjer/OneDrive/바탕 화면/파이썬 크롤링/chromedriver.exe\")\n",
    "driver.get(\"https://news.naver.com/main/main.naver?mode=LSD&mid=shm&sid1=103\")\n",
    "\n",
    "elem = driver.find_element_by_css_selector(\"#right_dailyList > div\")\n",
    "titles = elem.find_elements_by_tag_name(\"a\")\n",
    "for idx,title in enumerate(titles):\n",
    "    print(f\"{idx+1}번째 기사 제목 : {title.text}\\n\")\n",
    "\n",
    "driver.close()"
   ]
  },
  {
   "cell_type": "code",
   "execution_count": 9,
   "id": "795988fa",
   "metadata": {},
   "outputs": [
    {
     "name": "stdout",
     "output_type": "stream",
     "text": [
      "1위 : 맨체스터 시티 FC\n",
      "2위 : 아스널 FC\n",
      "3위 : 뉴캐슬 유나이티드 FC\n",
      "4위 : 맨체스터 유나이티드 FC\n",
      "5위 : 리버풀 FC\n",
      "6위 : 브라이튼 앤 호브 알비온 FC\n",
      "7위 : 토트넘 홋스퍼 FC\n",
      "8위 : 아스톤 빌라 FC\n",
      "9위 : 브렌트포드 FC\n",
      "10위 : 풀럼 FC\n",
      "11위 : 크리스탈 팰리스 FC\n",
      "12위 : 첼시 FC\n",
      "13위 : AFC 본머스\n",
      "14위 : 울버햄튼 원더러스 FC\n",
      "15위 : 웨스트햄 유나이티드 FC\n",
      "16위 : 레스터 시티 FC\n",
      "17위 : 리즈 유나이티드 FC\n",
      "18위 : 노팅엄 포레스트 FC\n",
      "19위 : 에버턴 FC\n",
      "20위 : 사우샘프턴 FC\n"
     ]
    }
   ],
   "source": [
    "driver = webdriver.Chrome(\"C:/Users/kcjer/OneDrive/바탕 화면/파이썬 크롤링/chromedriver.exe\")\n",
    "\n",
    "driver.get(\"https://sports.news.naver.com/wfootball/record/index\")\n",
    "\n",
    "rank = driver.find_element_by_css_selector(\"#wfootballTeamRecordBody > table > tbody\")\n",
    "names = rank.find_elements_by_tag_name(\"span.name\")\n",
    "\n",
    "for idx,name in enumerate(names):\n",
    "    print(f\"{idx+1}위 : {name.text}\")\n",
    "\n",
    "driver.close()"
   ]
  },
  {
   "cell_type": "markdown",
   "id": "70c1bde1",
   "metadata": {},
   "source": [
    "<!doctype html>\n",
    "<body>\n",
    "<h1>Welcome</h1>\n",
    "\n",
    "<form id = \"loginForm\">\n",
    "<input name=\"username\" type=\"text\"/>\n",
    "<input name=\"password\" type=\"password\"/>\n",
    "<input name=\"submit\" value=\"Login\"/>\n",
    "<input name=\"button\" value=\"Claer\"/>\n",
    "</form>\n",
    "\n",
    "<p>Are you sure you want to this ? </p>\n",
    "<a href=\"http://javaspecialist.co.kr\">자바전문가그룹</a>\n",
    "<p class=\"content\">Site content goes here.</p>\n",
    "</body>\n",
    "<html>"
   ]
  },
  {
   "cell_type": "code",
   "execution_count": 17,
   "id": "5a334867",
   "metadata": {},
   "outputs": [],
   "source": [
    "import os \n",
    "html_file = os.getcwd() + \"\\\\test.html\"\n",
    "from selenium import webdriver \n",
    "driver = webdriver.Chrome(\"C:/Users/kcjer/OneDrive/바탕 화면/파이썬 크롤링/chromedriver.exe\")\n",
    "driver.get(html_file)"
   ]
  },
  {
   "cell_type": "code",
   "execution_count": 23,
   "id": "89345a88",
   "metadata": {},
   "outputs": [
    {
     "name": "stdout",
     "output_type": "stream",
     "text": [
      "<selenium.webdriver.remote.webelement.WebElement (session=\"4d763f1e344d45b815e8e01370dfea8b\", element=\"8cde69dd-2701-4546-be47-5d8e2b347602\")>\n",
      "Welcome\n",
      "Site content goes here.\n",
      "Site content goes here.\n",
      "Site content goes here.\n"
     ]
    }
   ],
   "source": [
    "from selenium import webdriver\n",
    "driver = webdriver.Chrome(\"C:/Users/kcjer/OneDrive/바탕 화면/파이썬 크롤링/chromedriver.exe\")\n",
    "driver.get(\"C:/Users/kcjer/OneDrive//바탕 화면/파이썬 크롤링/test.html\")\n",
    "\n",
    "login_form = driver.find_element_by_id('loginForm')\n",
    "print(login_form)\n",
    "\n",
    "username = driver.find_element_by_name('username')\n",
    "username.send_keys(\"Hello\")\n",
    "\n",
    "password = driver.find_element_by_name('password')\n",
    "password.send_keys(\"1234567890\")\n",
    "\n",
    "link = driver.find_element_by_link_text(\"자바전문가그룹\")\n",
    "# link = driver.find_element_by_partial_link_text(\"전문가\")  이렇게 부분 텍스트로도 가능\n",
    "link.click()\n",
    "\n",
    "driver.back()\n",
    "\n",
    "heading1 = driver.find_element_by_tag_name(\"h1\")\n",
    "print(heading1.text)\n",
    "\n",
    "content = driver.find_element_by_class_name('content')\n",
    "print(content.text)\n",
    "\n",
    "content = driver.find_element_by_css_selector(\"p.content\")\n",
    "print(content.text)\n",
    "\n",
    "from selenium.webdriver.common.by import By\n",
    "content = driver.find_element(By.CSS_SELECTOR,'p.content')\n",
    "print(content.text)"
   ]
  },
  {
   "cell_type": "markdown",
   "id": "38081d74",
   "metadata": {},
   "source": [
    "# 페이지랑 상호작용하기"
   ]
  },
  {
   "cell_type": "markdown",
   "id": "ad08d530",
   "metadata": {},
   "source": [
    "## input 요소와 상호작용하기"
   ]
  },
  {
   "cell_type": "code",
   "execution_count": 24,
   "id": "b28edd10",
   "metadata": {},
   "outputs": [],
   "source": [
    "driver = webdriver.Chrome(\"C:/Users/kcjer/OneDrive/바탕 화면/파이썬 크롤링/chromedriver.exe\")\n",
    "driver.get(\"https://www.google.com/\")\n",
    "\n",
    "element = driver.find_element_by_name(\"q\")\n",
    "element.send_keys(\"hello\")\n",
    "element.send_keys(Keys.RETURN)"
   ]
  },
  {
   "cell_type": "markdown",
   "id": "0d72ed63",
   "metadata": {},
   "source": [
    "## select 요소와 상호작용하기"
   ]
  },
  {
   "cell_type": "markdown",
   "id": "4e16c1b2",
   "metadata": {},
   "source": [
    "<!DOCTYPE html>\n",
    "<html lang=\"en\">\n",
    "<head>\n",
    "    <meta charset=\"UTF-8\">\n",
    "    <meta http-equiv=\"X-UA-Compatible\" content=\"IE=edge\">\n",
    "    <meta name=\"viewport\" content=\"width=device-width, initial-scale=1.0\">\n",
    "    <title>Document</title>\n",
    "</head>\n",
    "<body>\n",
    "    <select name=\"type\">\n",
    "        <option value=\"a\">타입1</option>\n",
    "        <option value=\"b\">타입2</option>\n",
    "        <option value=\"c\">타입3</option>\n",
    "        <option value=\"d\">타입4</option>\n",
    "        <option value=\"e\">타입5</option>\n",
    "    </select>\n",
    "</body>\n",
    "</html>"
   ]
  },
  {
   "cell_type": "code",
   "execution_count": 29,
   "id": "0a114d2b",
   "metadata": {
    "scrolled": true
   },
   "outputs": [
    {
     "name": "stdout",
     "output_type": "stream",
     "text": [
      "value is : a\n",
      "value is : b\n",
      "value is : c\n",
      "value is : d\n",
      "value is : e\n",
      "타입2\n",
      "b\n",
      "1번째 옵션 : 타입1\n",
      "2번째 옵션 : 타입2\n",
      "3번째 옵션 : 타입3\n",
      "4번째 옵션 : 타입4\n",
      "5번째 옵션 : 타입5\n"
     ]
    }
   ],
   "source": [
    "driver = webdriver.Chrome(\"C:/Users/kcjer/OneDrive/바탕 화면/파이썬 크롤링/chromedriver.exe\")\n",
    "driver.get(\"C:/Users/kcjer/OneDrive/바탕 화면/파이썬 크롤링/test1.html\")\n",
    "\n",
    "\n",
    "# 첫번째 방법\n",
    "element = driver.find_element_by_css_selector(\"select[name='type']\")\n",
    "all_options = element.find_elements_by_tag_name(\"option\")\n",
    "\n",
    "for option in all_options:\n",
    "    print(f\"value is : {option.get_attribute('value')}\")\n",
    "    option.click()\n",
    "\n",
    "#두번째 방법\n",
    "from selenium.webdriver.support.ui import Select\n",
    "select = Select(driver.find_element_by_name('type'))\n",
    "select.select_by_index(2)\n",
    "\n",
    "\n",
    "#세번째 밥법\n",
    "select.select_by_visible_text(\"타입2\")\n",
    "\n",
    "#네번째 방법\n",
    "select.select_by_value(\"b\")\n",
    "\n",
    "# 선택된 옵션의 목록 출력\n",
    "all_selected_options = select.all_selected_options \n",
    "print(all_selected_options[0].text)\n",
    "print(all_selected_options[0].get_attribute(\"value\"))\n",
    "\n",
    "# 사용 가능한 모든 옵션 출력 \n",
    "options = select.options\n",
    "for idx, option in enumerate(options):\n",
    "    print(f\"{idx+1}번째 옵션 : {option.text}\")"
   ]
  },
  {
   "cell_type": "markdown",
   "id": "9b7477be",
   "metadata": {},
   "source": [
    "## 양식 전송하기"
   ]
  },
  {
   "cell_type": "code",
   "execution_count": 33,
   "id": "d1784f31",
   "metadata": {},
   "outputs": [],
   "source": [
    "driver = webdriver.Chrome(\"C:/Users/kcjer/OneDrive/바탕 화면/파이썬 크롤링/chromedriver.exe\")\n",
    "driver.get(\"https://www.naver.com/\")\n",
    "\n",
    "element = driver.find_element_by_id(\"query\")\n",
    "element.send_keys(\"Hello\")\n",
    "\n",
    "driver.find_element_by_class_name(\"ico_btn_search\").click()\n"
   ]
  },
  {
   "cell_type": "markdown",
   "id": "64388ae6",
   "metadata": {},
   "source": [
    "## 드래그 앤 드롭"
   ]
  },
  {
   "cell_type": "code",
   "execution_count": 36,
   "id": "9e4e67f7",
   "metadata": {},
   "outputs": [],
   "source": [
    "from selenium import webdriver\n",
    "from selenium.webdriver import ActionChains\n",
    "from selenium.webdriver.common.by import By\n",
    "\n",
    "driver = webdriver.Chrome(\"C:/Users/kcjer/OneDrive/바탕 화면/파이썬 크롤링/chromedriver.exe\")\n",
    "driver.get(\"https://demoqa.com/droppable\")\n",
    "\n",
    "source = driver.find_element_by_id(\"draggable\")\n",
    "target = driver.find_element_by_id(\"droppable\")\n",
    "\n",
    "# source_element = driver.find_element(by=By.ID, value=\"draggable\")\n",
    "# target_element = driver.find_element(by=By.ID, value=\"droppable\")\n",
    "\n",
    "actions = ActionChains(driver)\n",
    "actions.drag_and_drop(source,target).perform()"
   ]
  },
  {
   "cell_type": "markdown",
   "id": "9a688d91",
   "metadata": {},
   "source": [
    "## 윈도우와 프레임 이동"
   ]
  },
  {
   "cell_type": "code",
   "execution_count": 37,
   "id": "da1ebe69",
   "metadata": {},
   "outputs": [],
   "source": [
    "import time\n",
    "from selenium.webdriver.support.ui import WebDriverWait\n",
    "\n",
    "\n",
    "driver = webdriver.Chrome(\"C:/Users/kcjer/OneDrive/바탕 화면/파이썬 크롤링/chromedriver.exe\")\n",
    "\n",
    "driver.get(\"https://news.naver.com/\")\n",
    "driver.execute_script('window.open(\"https://www.youtube.com/?gl=KR\")')\n",
    "driver.execute_script('window.open(\"https://chat-gpt.org/chat\")')\n",
    "\n",
    "time.sleep(3)\n",
    "driver.switch_to.window(driver.window_handles[1])  # 두 번째 창으로 이동\n",
    "\n",
    "time.sleep(3)\n",
    "driver.switch_to.window(driver.window_handles[2])  "
   ]
  }
 ],
 "metadata": {
  "kernelspec": {
   "display_name": "Python 3 (ipykernel)",
   "language": "python",
   "name": "python3"
  },
  "language_info": {
   "codemirror_mode": {
    "name": "ipython",
    "version": 3
   },
   "file_extension": ".py",
   "mimetype": "text/x-python",
   "name": "python",
   "nbconvert_exporter": "python",
   "pygments_lexer": "ipython3",
   "version": "3.10.0rc2"
  }
 },
 "nbformat": 4,
 "nbformat_minor": 5
}
